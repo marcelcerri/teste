{
  "nbformat": 4,
  "nbformat_minor": 0,
  "metadata": {
    "colab": {
      "provenance": [],
      "authorship_tag": "ABX9TyPaHTD011F38w2oJsjfK8/L",
      "include_colab_link": true
    },
    "kernelspec": {
      "name": "python3",
      "display_name": "Python 3"
    },
    "language_info": {
      "name": "python"
    }
  },
  "cells": [
    {
      "cell_type": "markdown",
      "metadata": {
        "id": "view-in-github",
        "colab_type": "text"
      },
      "source": [
        "<a href=\"https://colab.research.google.com/github/marcelcerri/teste/blob/main/Aula_00_Python_03_de_maio_de_2023.ipynb\" target=\"_parent\"><img src=\"https://colab.research.google.com/assets/colab-badge.svg\" alt=\"Open In Colab\"/></a>"
      ]
    },
    {
      "cell_type": "code",
      "execution_count": null,
      "metadata": {
        "id": "nNkPDLab8CVe"
      },
      "outputs": [],
      "source": []
    },
    {
      "cell_type": "markdown",
      "source": [
        "# Início da Jornada"
      ],
      "metadata": {
        "id": "lbRsQLNF8Qql"
      }
    },
    {
      "cell_type": "markdown",
      "source": [
        "## Função Print"
      ],
      "metadata": {
        "id": "BQTUk-d4_JWF"
      }
    },
    {
      "cell_type": "code",
      "source": [
        "print(\"Hello World\")"
      ],
      "metadata": {
        "colab": {
          "base_uri": "https://localhost:8080/"
        },
        "id": "1g6rbwZO8Xec",
        "outputId": "d61f3abc-8f23-4acd-b2c7-d1c806e9c99f"
      },
      "execution_count": 1,
      "outputs": [
        {
          "output_type": "stream",
          "name": "stdout",
          "text": [
            "Hello World\n"
          ]
        }
      ]
    },
    {
      "cell_type": "code",
      "source": [
        "# Esse é o meu primeiro programa\n",
        "print(\"Oi\") #para escrever palavras utilizar aspas duplas ou aspas simples"
      ],
      "metadata": {
        "colab": {
          "base_uri": "https://localhost:8080/"
        },
        "id": "URjqj58J9KxF",
        "outputId": "fb2d4f1d-b61d-4d5b-b9c3-ab248ad08ce6"
      },
      "execution_count": 3,
      "outputs": [
        {
          "output_type": "stream",
          "name": "stdout",
          "text": [
            "Oi\n"
          ]
        }
      ]
    },
    {
      "cell_type": "code",
      "source": [
        "# Vamos tentar algo diferente \n",
        "a = \"Olá \"\n",
        "b = \"Mundo\"\n",
        "print(a + b)"
      ],
      "metadata": {
        "colab": {
          "base_uri": "https://localhost:8080/"
        },
        "id": "sSFVnLTK-Er1",
        "outputId": "3e7eb656-8145-471d-b049-1fcf4456137f"
      },
      "execution_count": 5,
      "outputs": [
        {
          "output_type": "stream",
          "name": "stdout",
          "text": [
            "Olá Mundo\n"
          ]
        }
      ]
    },
    {
      "cell_type": "markdown",
      "source": [
        "## Contas"
      ],
      "metadata": {
        "id": "94MNjSdD_L40"
      }
    },
    {
      "cell_type": "code",
      "source": [
        "# Contas Simples\n",
        "4 + 7"
      ],
      "metadata": {
        "colab": {
          "base_uri": "https://localhost:8080/"
        },
        "id": "qh4UwFoL-ndk",
        "outputId": "a4ae8c95-de4e-46e2-aebd-1e16cd60b4f7"
      },
      "execution_count": 6,
      "outputs": [
        {
          "output_type": "execute_result",
          "data": {
            "text/plain": [
              "11"
            ]
          },
          "metadata": {},
          "execution_count": 6
        }
      ]
    },
    {
      "cell_type": "code",
      "source": [
        "nome = \"Marcel\"\n",
        "idade = 43\n",
        "print(f'Meu nome é {nome} e minha idade é {idade} anos')"
      ],
      "metadata": {
        "colab": {
          "base_uri": "https://localhost:8080/"
        },
        "id": "Rv_ODX5i_ZwF",
        "outputId": "cc102582-e85c-4f58-d6cd-13448d1986bf"
      },
      "execution_count": 8,
      "outputs": [
        {
          "output_type": "stream",
          "name": "stdout",
          "text": [
            "Meu nome é Marcel e minha idade é 43 anos\n"
          ]
        }
      ]
    },
    {
      "cell_type": "code",
      "source": [],
      "metadata": {
        "id": "dbGzH67A_7HE"
      },
      "execution_count": null,
      "outputs": []
    }
  ]
}