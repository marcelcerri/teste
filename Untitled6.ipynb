{
  "nbformat": 4,
  "nbformat_minor": 0,
  "metadata": {
    "colab": {
      "provenance": [],
      "authorship_tag": "ABX9TyOx6h+2RRYJxVLp9cfKVcRE",
      "include_colab_link": true
    },
    "kernelspec": {
      "name": "python3",
      "display_name": "Python 3"
    },
    "language_info": {
      "name": "python"
    }
  },
  "cells": [
    {
      "cell_type": "markdown",
      "metadata": {
        "id": "view-in-github",
        "colab_type": "text"
      },
      "source": [
        "<a href=\"https://colab.research.google.com/github/marcelcerri/teste/blob/main/Untitled6.ipynb\" target=\"_parent\"><img src=\"https://colab.research.google.com/assets/colab-badge.svg\" alt=\"Open In Colab\"/></a>"
      ]
    },
    {
      "cell_type": "markdown",
      "source": [
        "# IF"
      ],
      "metadata": {
        "id": "7ErZ6qE5u6PM"
      }
    },
    {
      "cell_type": "code",
      "execution_count": 2,
      "metadata": {
        "colab": {
          "base_uri": "https://localhost:8080/"
        },
        "id": "L1a7WT_ju56I",
        "outputId": "0bb2beae-aaa2-4214-99f2-27d9858a9a8a"
      },
      "outputs": [
        {
          "output_type": "stream",
          "name": "stdout",
          "text": [
            "Entre com um número: 2\n",
            "Entre com um segundo número: 10\n",
            "O segundo valor é maior.\n"
          ]
        }
      ],
      "source": [
        "# Exemplo do uso de if\n",
        "a = int(input(\"Entre com um número: \"))\n",
        "b = int(input(\"Entre com um segundo número: \"))\n",
        "if a > b:\n",
        "  print(\"O primeiro valor é maior.\")\n",
        "if b > a:\n",
        "  print(\"O segundo valor é maior.\")"
      ]
    },
    {
      "cell_type": "code",
      "source": [
        "# Exemplo do uso de if\n",
        "a = int(input(\"Entre com um número: \"))\n",
        "b = int(input(\"Entre com um segundo número: \"))\n",
        "if a > b:\n",
        "  print(\"O primeiro valor é maior.\")\n",
        "else:\n",
        "  print(\"O segundo valor é maior.\")"
      ],
      "metadata": {
        "colab": {
          "base_uri": "https://localhost:8080/"
        },
        "id": "_4mqimDezWeB",
        "outputId": "445e857f-f381-4f8f-feaf-cf938f7a7cad"
      },
      "execution_count": 3,
      "outputs": [
        {
          "output_type": "stream",
          "name": "stdout",
          "text": [
            "Entre com um número: 02\n",
            "Entre com um segundo número: 30\n",
            "O segundo valor é maior.\n"
          ]
        }
      ]
    },
    {
      "cell_type": "code",
      "source": [
        "# Exemplo de par ou impar\n",
        "numero = int(input(\"Entre com um valor inteiro: \"))\n",
        "\n",
        "if numero % 2 == 0:\n",
        "  print(\"par\")\n",
        "else:\n",
        "  print(\"impar\")"
      ],
      "metadata": {
        "colab": {
          "base_uri": "https://localhost:8080/"
        },
        "id": "SETbTL0uz65l",
        "outputId": "107d6d31-604d-4053-e81e-b86f37e42b93"
      },
      "execution_count": 4,
      "outputs": [
        {
          "output_type": "stream",
          "name": "stdout",
          "text": [
            "Entre com um valor inteiro: 13\n",
            "impar\n"
          ]
        }
      ]
    },
    {
      "cell_type": "code",
      "source": [
        "\"\"\"\n",
        "massa = float(input(\"Entre com o seu peso: \"))\n",
        "altura = float(input(\"Entre com a sua altura: \"))\n",
        "imc = massa/(altura**2)\n",
        "imc = round(imc, 2)\n",
        "print(f'O IMC é {imc} ')\n",
        "\"\"\"\n",
        "imc = float(input(\"Valor de imc\"))\n",
        "if imc <= 18:\n",
        "  print(\"Desnutrição\")\n",
        "elif imc > 18 and imc <= 25:\n",
        "  print(\"Peso Normal\")\n",
        "elif imc > 25 and imc <= 35:\n",
        "  print(\"Sobrepeso\")\n",
        "else:\n",
        "  print(\"Obesidade\")"
      ],
      "metadata": {
        "colab": {
          "base_uri": "https://localhost:8080/"
        },
        "id": "Empc0z2a15rp",
        "outputId": "c07887bf-1766-4d51-b75e-fc6a8b3022f9"
      },
      "execution_count": 14,
      "outputs": [
        {
          "output_type": "stream",
          "name": "stdout",
          "text": [
            "Valor de imc25\n",
            "Peso Normal\n"
          ]
        }
      ]
    },
    {
      "cell_type": "code",
      "source": [
        "\"\"\"\n",
        "Solução das raízes de uma equação de segundo grau\n",
        "y = ax**2 + bx + c\n",
        "Entrando com os valores de a, b e c o programa calcula as raízes\n",
        "\"\"\"\n",
        "a =float(input(\"Entre com os valores de a: \"))\n",
        "b =float(input(\"Entre com os valores de b: \"))\n",
        "c =float(input(\"Entre com os valores de c: \"))\n",
        "\n",
        "#Cálculo do Delta\n",
        "Delta = b**2 - 4*a*c\n",
        "\n",
        "if Delta < 0:\n",
        "  print('esta equação não possui raízes reais')\n",
        "elif Delta == 0:\n",
        "  raiz = -b/2*a\n",
        "  print(f\"a raíz da equação é {raiz}\")\n",
        "else:\n",
        "  raiz_1 = (-b - (Delta**0.5)) / (2*a)\n",
        "  raiz_2 = (-b + (Delta**0.5)) / (2*a)\n",
        "  print(f\"as raízes da equação são {raiz_1} e {raiz_2}\")"
      ],
      "metadata": {
        "colab": {
          "base_uri": "https://localhost:8080/"
        },
        "id": "5N7LZA_v4Azl",
        "outputId": "800346c3-705f-43a5-9def-7983a20fb5dc"
      },
      "execution_count": 16,
      "outputs": [
        {
          "output_type": "stream",
          "name": "stdout",
          "text": [
            "Entre com os valores de a: 5\n",
            "Entre com os valores de b: 2\n",
            "Entre com os valores de c: 4\n",
            "esta equação não possui raízes reais\n"
          ]
        }
      ]
    },
    {
      "cell_type": "code",
      "source": [
        "_"
      ],
      "metadata": {
        "id": "3BgrQR1a6yLn"
      },
      "execution_count": null,
      "outputs": []
    },
    {
      "cell_type": "markdown",
      "source": [
        "## Estruturas aninhadas"
      ],
      "metadata": {
        "id": "2T623EcB9x_X"
      }
    },
    {
      "cell_type": "code",
      "source": [
        "min = int(input(\"Quantos minutos você utilizou o telefone esse mês: \"))\n",
        "if min < 200:\n",
        "  preco = 0.20\n",
        "else:\n",
        "  if min < 400:\n",
        "    preco = 0.18\n",
        "  else:\n",
        "    preco = 0.15\n",
        "\n",
        "print(f\"Você vai pagar este mês: R$ {min*preco:6.2f}\")"
      ],
      "metadata": {
        "colab": {
          "base_uri": "https://localhost:8080/"
        },
        "id": "tfmLvc6X90on",
        "outputId": "5b578b26-1f19-4ac5-d1dc-43d3107bdcb3"
      },
      "execution_count": 17,
      "outputs": [
        {
          "output_type": "stream",
          "name": "stdout",
          "text": [
            "Quantos minutos você utilizou o telefone esse mês: 300\n",
            "Você vai pagar este mês: R$  54.00\n"
          ]
        }
      ]
    },
    {
      "cell_type": "code",
      "source": [
        "import matplotlib.pyplot as plt\n",
        "import numpy as np\n",
        "\n",
        "plt.style.use('_mpl-gallery')\n",
        "\n",
        "# make data\n",
        "x = np.linspace(0, 10, 100)\n",
        "y = 4 + 2 * np.sin(2 * x)\n",
        "\n",
        "# plot\n",
        "fig, ax = plt.subplots()\n",
        "\n",
        "ax.plot(x, y, linewidth=5)\n",
        "\n",
        "ax.set(xlim=(0, 10), xticks=np.arange(1, 10),\n",
        "       ylim=(0, 10), yticks=np.arange(1, 10))\n",
        "\n",
        "plt.show()"
      ],
      "metadata": {
        "colab": {
          "base_uri": "https://localhost:8080/",
          "height": 251
        },
        "id": "ZLPZsY90-tJP",
        "outputId": "86991580-d706-4d5c-a140-94351575a50f"
      },
      "execution_count": 22,
      "outputs": [
        {
          "output_type": "display_data",
          "data": {
            "text/plain": [
              "<Figure size 200x200 with 1 Axes>"
            ],
            "image/png": "[encoded data removed]"
          },
          "metadata": {}
        }
      ]
    },
    {
      "cell_type": "code",
      "source": [],
      "metadata": {
        "id": "tJ4ioaA1CA2R"
      },
      "execution_count": null,
      "outputs": []
    }
  ]
}